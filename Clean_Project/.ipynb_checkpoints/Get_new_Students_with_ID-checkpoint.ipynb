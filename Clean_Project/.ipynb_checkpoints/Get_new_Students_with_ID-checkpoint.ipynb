{
 "cells": [
  {
   "cell_type": "code",
   "execution_count": 1,
   "id": "3520fb18",
   "metadata": {},
   "outputs": [],
   "source": [
    "import shutil\n",
    "import os\n",
    "from PIL import Image\n",
    "import time\n",
    "import cv2\n",
    "from progressbar import progressbar"
   ]
  },
  {
   "cell_type": "code",
   "execution_count": 2,
   "id": "44f1b41d",
   "metadata": {},
   "outputs": [
    {
     "name": "stdout",
     "output_type": "stream",
     "text": [
      "Please enter your student ID: 22000579\n"
     ]
    }
   ],
   "source": [
    "# Define the constants\n",
    "n_images_mask = 100\n",
    "n_images_no_mask = 100\n",
    "\n",
    "# Get student ID\n",
    "student_ID = input(\"Please enter your student ID: \")\n",
    "\n",
    "# Get data storage path\n",
    "path = \"Data_ID/1_Data_Capture/\" + student_ID\n",
    "\n",
    "# Build the folders\n",
    "if (not os.path.isdir(path)):\n",
    "    os.mkdir(path)"
   ]
  },
  {
   "cell_type": "code",
   "execution_count": 3,
   "id": "a13342ce",
   "metadata": {},
   "outputs": [
    {
     "name": "stdout",
     "output_type": "stream",
     "text": [
      "The images with mask will be captured in : 0s\r"
     ]
    },
    {
     "name": "stderr",
     "output_type": "stream",
     "text": [
      "100% (100 of 100) |######################| Elapsed Time: 0:00:11 Time:  0:00:11\n"
     ]
    }
   ],
   "source": [
    "# Take pictures with mask\n",
    "\n",
    "# Open the camera\n",
    "cap = cv2.VideoCapture(0)\n",
    "\n",
    "if not cap.isOpened():\n",
    "    raise IOError(\"Cannot open webcam\")\n",
    "\n",
    "for i in range(6):\n",
    "    time.sleep(1)\n",
    "    print(\"The images with mask will be captured in : \" + str(5-i) + \"s\", end = \"\\r\")\n",
    "    \n",
    "# pause time to smoothen output\n",
    "time.sleep(0.5)\n",
    "    \n",
    "# Take the images\n",
    "for i in progressbar(range(n_images_mask)):\n",
    "    img_name = student_ID + \"_\" + str(i+1) + \".png\"\n",
    "    # Take picture\n",
    "    ret, frame = cap.read()\n",
    "    frame = cv2.resize(frame, None, fx=0.5, fy=0.5, interpolation=cv2.INTER_AREA)\n",
    "    cv2.imwrite(path + \"/\" + img_name, frame)\n",
    "    # Wait\n",
    "    time.sleep(0.1)"
   ]
  },
  {
   "cell_type": "code",
   "execution_count": 4,
   "id": "b76e2fa1",
   "metadata": {},
   "outputs": [
    {
     "name": "stdout",
     "output_type": "stream",
     "text": [
      "The images without mask will be captured. Please prepare. Start of image capturing in: 0s\r"
     ]
    },
    {
     "name": "stderr",
     "output_type": "stream",
     "text": [
      "100% (100 of 100) |######################| Elapsed Time: 0:00:11 Time:  0:00:11\n"
     ]
    }
   ],
   "source": [
    "# Take pictures with mask\n",
    "\n",
    "for i in range(6):\n",
    "    time.sleep(1)\n",
    "    print(\"The images without mask will be captured. Please prepare. Start of image capturing in: \" \n",
    "          + str(5-i) + \"s\", end = \"\\r\")\n",
    "    \n",
    "# pause time to smoothen output\n",
    "time.sleep(0.5)\n",
    "    \n",
    "# Take the images\n",
    "for i in progressbar(range(n_images_mask)):\n",
    "    img_name = student_ID + \"_\" + str(i+ n_images_mask + 1) + \".png\"\n",
    "    # Take picture\n",
    "    ret, frame = cap.read()\n",
    "    frame = cv2.resize(frame, None, fx=0.5, fy=0.5, interpolation=cv2.INTER_AREA)\n",
    "    cv2.imwrite(path + \"/\" + img_name, frame)\n",
    "    # Wait\n",
    "    time.sleep(0.1)\n",
    "    \n",
    "# Close the cam\n",
    "cap.release()\n",
    "cv2.destroyAllWindows()"
   ]
  },
  {
   "cell_type": "code",
   "execution_count": 5,
   "id": "fce42e4e",
   "metadata": {},
   "outputs": [
    {
     "name": "stdout",
     "output_type": "stream",
     "text": [
      "The capturing of 22000579 is now finished. 22000579 will be added to the system.\n"
     ]
    }
   ],
   "source": [
    "print(\"The capturing of \" + student_ID + \" is now finished. \" + student_ID + \" will be added to the system.\")"
   ]
  }
 ],
 "metadata": {
  "kernelspec": {
   "display_name": "Python 3 (ipykernel)",
   "language": "python",
   "name": "python3"
  },
  "language_info": {
   "codemirror_mode": {
    "name": "ipython",
    "version": 3
   },
   "file_extension": ".py",
   "mimetype": "text/x-python",
   "name": "python",
   "nbconvert_exporter": "python",
   "pygments_lexer": "ipython3",
   "version": "3.9.12"
  }
 },
 "nbformat": 4,
 "nbformat_minor": 5
}
