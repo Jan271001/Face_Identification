{
 "cells": [
  {
   "cell_type": "code",
   "execution_count": 1,
   "id": "d330e204",
   "metadata": {},
   "outputs": [],
   "source": [
    "# General libraries\n",
    "import os\n",
    "from progressbar import progressbar\n",
    "import shutil\n",
    "import csv\n",
    "\n",
    "# DL libraries\n",
    "from facenet_pytorch import MTCNN, InceptionResnetV1\n",
    "import torch\n",
    "from torchvision import datasets, transforms\n",
    "\n",
    "# image and visualization libraries\n",
    "from PIL import Image\n",
    "import matplotlib.pyplot as plt\n",
    "\n",
    "%matplotlib inline"
   ]
  },
  {
   "cell_type": "markdown",
   "id": "d8a28d73",
   "metadata": {},
   "source": [
    "### Step 1\n",
    "Combine data in one big set\n",
    "\n",
    "### Step 2\n",
    "Crop all images in the big set\n",
    "\n",
    "### Step3\n",
    "build a csv file containing all the labels"
   ]
  },
  {
   "cell_type": "code",
   "execution_count": 2,
   "id": "45c06a1a",
   "metadata": {},
   "outputs": [
    {
     "name": "stdout",
     "output_type": "stream",
     "text": [
      "Running on device \"cuda\"\n"
     ]
    }
   ],
   "source": [
    "# Define device\n",
    "device = 'cuda' if torch.cuda.is_available() else 'cpu'\n",
    "print(f'Running on device \"{device}\"')"
   ]
  },
  {
   "cell_type": "code",
   "execution_count": 3,
   "id": "ddec0f38",
   "metadata": {
    "scrolled": false
   },
   "outputs": [],
   "source": [
    "# Create model to detected and crop faces\n",
    "mtcnn = MTCNN(image_size=160, margin=0)"
   ]
  },
  {
   "cell_type": "code",
   "execution_count": 4,
   "id": "a47bb8bc",
   "metadata": {},
   "outputs": [],
   "source": [
    "# Combine student data into one dataset set\n",
    "\n",
    "# Get a list of all the source folders\n",
    "path_list = list()\n",
    "for it in os.scandir(\"Data/1_Data_Capture\"):\n",
    "    if it.is_dir():\n",
    "        path_list.append(it.path)\n",
    "\n",
    "# path to destination directory\n",
    "dest_path = \"Data/2_Data_OneSet\"\n",
    "\n",
    "# Remove storingfolder if existing\n",
    "if(os.path.isdir(dest_path)):\n",
    "    shutil.rmtree(dest_path)\n",
    "    os.mkdir(dest_path)\n",
    "\n",
    "# Copying the files from the source directory in the destination directory\n",
    "for src_path in path_list:\n",
    "    for file in os.listdir(src_path):\n",
    "        src = os.path.join(src_path, file)\n",
    "        dest = os.path.join(dest_path, file)\n",
    "        shutil.copy2(src, dest)"
   ]
  },
  {
   "cell_type": "code",
   "execution_count": 5,
   "id": "0c216841",
   "metadata": {},
   "outputs": [
    {
     "name": "stderr",
     "output_type": "stream",
     "text": [
      "/ |#                                                  | 0 Elapsed Time: 0:00:00/home/jan/anaconda3/envs/aibcva/lib/python3.9/site-packages/torch/nn/functional.py:780: UserWarning: Note that order of the arguments: ceil_mode and return_indices will changeto match the args list in nn.MaxPool2d in a future release.\n",
      "  warnings.warn(\"Note that order of the arguments: ceil_mode and return_indices will change\"\n",
      "| |                                               # | 999 Elapsed Time: 0:00:43\n"
     ]
    },
    {
     "name": "stdout",
     "output_type": "stream",
     "text": [
      "Cropping is finished\n"
     ]
    }
   ],
   "source": [
    "# Crop all images and save the result in one dataset\n",
    "\n",
    "# Get pics\n",
    "path = dest_path\n",
    "pics = os.scandir(path)\n",
    "\n",
    "# Define storage folder\n",
    "dest_path = \"Data/3_Data_OneSet_Cropped\"\n",
    "\n",
    "# Remove storingfolder if existing\n",
    "if(os.path.isdir(dest_path)):\n",
    "    shutil.rmtree(dest_path)\n",
    "    os.mkdir(dest_path)\n",
    "\n",
    "# Crop pics\n",
    "for pic in progressbar(pics):\n",
    "    # Get image\n",
    "    pic_path = pic.path\n",
    "    img = Image.open(pic_path)\n",
    "    \n",
    "    # create a save path for each image\n",
    "    save_path = dest_path + \"/\" + pic.name\n",
    "    \n",
    "    # Get cropped image and probability\n",
    "    img_crop = mtcnn.forward(img, save_path=save_path, return_prob=False)\n",
    "    \n",
    "print(\"Cropping is finished\")"
   ]
  },
  {
   "cell_type": "code",
   "execution_count": 6,
   "id": "b2b819a7",
   "metadata": {},
   "outputs": [],
   "source": [
    "# Create csv file containing all the labels of the data\n",
    "\n",
    "# If file exists remove file\n",
    "if os.path.exists(\"Data/labels.csv\"):\n",
    "    os.remove(\"Data/labels.csv\")\n",
    "\n",
    "# Open csv in the write mode\n",
    "label_csv = open(\"Data/labels.csv\", 'w')\n",
    "\n",
    "# Create the csv writer\n",
    "writer = csv.writer(label_csv)\n",
    "\n",
    "# Get the labels\n",
    "labels = list()\n",
    "# Get all labels from data folder\n",
    "for name in os.listdir(\"Data/1_Data_Capture\"):\n",
    "    # Exclude hidden folders\n",
    "    if not os.path.isdir(name):\n",
    "        labels.append(name)\n",
    "# Sort the classes in an alphabetical manner to get consistence between different scripts\n",
    "labels.sort()\n",
    "\n",
    "for file in os.listdir(dest_path):\n",
    "    # Get label as number\n",
    "    label = labels.index(file.split(\"_\")[0])\n",
    "    pic_and_label = [file, label]\n",
    "    # Write imagename and label as csv file\n",
    "    writer.writerow(pic_and_label)\n",
    "\n",
    "# close the file\n",
    "label_csv.close()"
   ]
  }
 ],
 "metadata": {
  "kernelspec": {
   "display_name": "Python 3 (ipykernel)",
   "language": "python",
   "name": "python3"
  },
  "language_info": {
   "codemirror_mode": {
    "name": "ipython",
    "version": 3
   },
   "file_extension": ".py",
   "mimetype": "text/x-python",
   "name": "python",
   "nbconvert_exporter": "python",
   "pygments_lexer": "ipython3",
   "version": "3.9.12"
  }
 },
 "nbformat": 4,
 "nbformat_minor": 5
}
