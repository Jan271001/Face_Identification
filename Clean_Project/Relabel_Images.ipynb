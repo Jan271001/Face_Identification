{
 "cells": [
  {
   "cell_type": "code",
   "execution_count": 1,
   "id": "5e730b6c",
   "metadata": {},
   "outputs": [],
   "source": [
    "import os"
   ]
  },
  {
   "cell_type": "code",
   "execution_count": 2,
   "id": "8df84297",
   "metadata": {},
   "outputs": [],
   "source": [
    "# Initialize person lables\n",
    "person_labels = list()\n",
    "\n",
    "# Define source path for data\n",
    "path = \"Data/1_Data_Capture\"\n",
    "\n",
    "# Get folders\n",
    "dirs = os.listdir(path)\n",
    "\n",
    "# Save the folder names as labels\n",
    "for dirname in dirs:\n",
    "    person_labels.append(dirname)\n",
    "\n",
    "# Get a list of folder paths\n",
    "path_list = list()\n",
    "for label in person_labels:\n",
    "    path_list.append(path + \"/\" + label)\n",
    "\n",
    "# Rename all files in the folders with a label and a continuing increasing number\n",
    "for i,path in enumerate(path_list):\n",
    "    if os.path.isdir(path):\n",
    "        for j,filename in enumerate(os.listdir(path)):\n",
    "            os.rename(path + \"/\" + filename, path + \"/\" + person_labels[i] + \"_\" + str(j) + \".png\")"
   ]
  }
 ],
 "metadata": {
  "kernelspec": {
   "display_name": "Python 3 (ipykernel)",
   "language": "python",
   "name": "python3"
  },
  "language_info": {
   "codemirror_mode": {
    "name": "ipython",
    "version": 3
   },
   "file_extension": ".py",
   "mimetype": "text/x-python",
   "name": "python",
   "nbconvert_exporter": "python",
   "pygments_lexer": "ipython3",
   "version": "3.9.12"
  }
 },
 "nbformat": 4,
 "nbformat_minor": 5
}
